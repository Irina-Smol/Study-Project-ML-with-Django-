{
 "cells": [
  {
   "cell_type": "markdown",
   "id": "7408c0c5",
   "metadata": {},
   "source": [
    "### В каждом внутреннем списке 1-й индекс - это звук животного, 2-й индекс - это логическая метка, указывающая, является ли животное собакой."
   ]
  },
  {
   "cell_type": "code",
   "execution_count": 4,
   "id": "d964b4cc",
   "metadata": {},
   "outputs": [],
   "source": [
    "data = [\n",
    "    ['woof', 1],\n",
    "    ['bark', 1],\n",
    "    ['ruff', 1],\n",
    "    ['bowwow', 1],\n",
    "    ['roar', 0],\n",
    "    ['bah', 0],\n",
    "    ['meow', 0],\n",
    "    ['ribbit', 0],\n",
    "    ['moo', 0],\n",
    "    ['yip', 0],\n",
    "    ['pika', 0]\n",
    "]"
   ]
  },
  {
   "cell_type": "markdown",
   "id": "0f76bee7",
   "metadata": {},
   "source": [
    "### Преобразование выше в списки функций и надписей"
   ]
  },
  {
   "cell_type": "code",
   "execution_count": 6,
   "id": "90fcf824",
   "metadata": {},
   "outputs": [],
   "source": [
    "X = []\n",
    "y = []\n",
    "for i in data:\n",
    "    X.append( i[0] )\n",
    "    y.append( i[1] )"
   ]
  },
  {
   "cell_type": "markdown",
   "id": "4cc749c9",
   "metadata": {},
   "source": [
    "### Векторизатор и преобразование элементов"
   ]
  },
  {
   "cell_type": "code",
   "execution_count": 8,
   "id": "08e81324",
   "metadata": {},
   "outputs": [],
   "source": [
    "from sklearn.feature_extraction.text import CountVectorizer\n",
    "vectorizer = CountVectorizer()\n",
    "X_vectorized = vectorizer.fit_transform(X)"
   ]
  },
  {
   "cell_type": "markdown",
   "id": "2c29fcb8",
   "metadata": {},
   "source": [
    "### Тренировка линейной регрессии"
   ]
  },
  {
   "cell_type": "code",
   "execution_count": 10,
   "id": "ffb04322",
   "metadata": {},
   "outputs": [
    {
     "data": {
      "text/plain": [
       "LinearRegression()"
      ]
     },
     "execution_count": 10,
     "metadata": {},
     "output_type": "execute_result"
    }
   ],
   "source": [
    "from sklearn.linear_model import LinearRegression\n",
    "import numpy as np\n",
    "regressor = LinearRegression()\n",
    "regressor.fit(X_vectorized, y)"
   ]
  },
  {
   "cell_type": "markdown",
   "id": "3026af20",
   "metadata": {},
   "source": [
    "### Проверка"
   ]
  },
  {
   "cell_type": "code",
   "execution_count": 13,
   "id": "a8443d87",
   "metadata": {},
   "outputs": [
    {
     "name": "stdout",
     "output_type": "stream",
     "text": [
      "[1.]\n",
      "[0.]\n",
      "[0.36363636]\n"
     ]
    }
   ],
   "source": [
    "test_feature = vectorizer.transform(['woof'])\n",
    "prediction = regressor.predict(test_feature)\n",
    "print(prediction)\n",
    "test_feature = vectorizer.transform(['ribbit'])\n",
    "prediction = regressor.predict(test_feature)\n",
    "print(prediction)\n",
    "test_feature = vectorizer.transform(['meoww'])\n",
    "prediction = regressor.predict(test_feature)\n",
    "print(prediction)"
   ]
  },
  {
   "cell_type": "markdown",
   "id": "deb187cf",
   "metadata": {},
   "source": [
    "### Объединить модели в поток байтов, чтобы было возможно хранить их в приложении"
   ]
  },
  {
   "cell_type": "code",
   "execution_count": 14,
   "id": "edfd905b",
   "metadata": {},
   "outputs": [],
   "source": [
    "import pickle\n",
    "pickl = {\n",
    "    'vectorizer': vectorizer,\n",
    "    'regressor': regressor\n",
    "}\n",
    "pickle.dump( pickl, open( 'models' + \".p\", \"wb\" ) )"
   ]
  }
 ],
 "metadata": {
  "kernelspec": {
   "display_name": "Python 3 (ipykernel)",
   "language": "python",
   "name": "python3"
  },
  "language_info": {
   "codemirror_mode": {
    "name": "ipython",
    "version": 3
   },
   "file_extension": ".py",
   "mimetype": "text/x-python",
   "name": "python",
   "nbconvert_exporter": "python",
   "pygments_lexer": "ipython3",
   "version": "3.9.13"
  }
 },
 "nbformat": 4,
 "nbformat_minor": 5
}
